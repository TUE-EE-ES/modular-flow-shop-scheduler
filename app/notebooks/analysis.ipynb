{
 "cells": [
  {
   "cell_type": "code",
   "execution_count": null,
   "metadata": {},
   "outputs": [],
   "source": [
    "import os\n",
    "from pathlib import Path\n",
    "from typing import cast\n",
    "\n",
    "import pandas as pd\n",
    "import plotly.express as px\n",
    "import plotly.io as pio\n",
    "from IPython.display import display\n",
    "\n",
    "import modfs.utils.plotting as plot\n",
    "from modfs.data.result_load import add_derived_columns, load_results\n",
    "\n",
    "ROOT_PATH = Path().resolve().parent\n",
    "PATH_DATA = ROOT_PATH / \"data\"\n",
    "FIGS_DIR = PATH_DATA / \"figs/analysis\"\n",
    "FIGS_DIR.mkdir(exist_ok=True, parents=True)\n",
    "\n",
    "results_path = PATH_DATA / \"run/\"\n",
    "\n",
    "df_original = load_results(results_path)\n",
    "df_original.loc[\n",
    "    (df_original[\"modular_algorithm\"] == \"cocktail\") & (df_original[\"algorithm\"] == \"simple\"),\n",
    "    \"modular_algorithm\",\n",
    "] = \"Cocktail (simple)\"\n",
    "df_original.replace(\n",
    "    {\n",
    "        \"modular_algorithm\": {\n",
    "            \"cocktail\": \"Cocktail\",\n",
    "            \"broadcast\": \"Broadcast\",\n",
    "            \"constraint\": \"Constraint\",\n",
    "        }\n",
    "    },\n",
    "    inplace=True,\n",
    ")\n",
    "vals = tuple(str(results_path / f\"generic/mixed/duplex/booklet{a}/\") + os.sep for a in [\"A\", \"AB\"])\n",
    "df_tmp = df_original[df_original[\"run_file_path\"].str.startswith(vals)].copy()\n",
    "df_tmp[\"run_file_path\"] = df_tmp[\"run_file_path\"].str.replace(\n",
    "    str(Path(\"generic/mixed/duplex\")), \"comp-orig\"\n",
    ")\n",
    "df_original = pd.concat([df_original, df_tmp], ignore_index=True)\n",
    "\n",
    "df_processed = add_derived_columns(\n",
    "    df_original,\n",
    "    groups={\n",
    "        \"homogeneous\": {\"generic/printer_cases\"},\n",
    "        \"heterogeneous\": {\"generic/mixed\"},\n",
    "        \"computational\": {\"computational\"},\n",
    "        \"computational-orig\": {\"comp-orig\"},\n",
    "    },\n",
    "    gen_subpath=\"data/gen\",\n",
    "    run_subpath=results_path,\n",
    "    group_source=\"run_file_path\",\n",
    ")\n",
    "\n",
    "# df_normal = plot.add_all_solved(df_processed)\n",
    "df_normal = df_processed.copy()\n",
    "df_solved = df_normal[df_normal[\"solved\"]].copy()\n",
    "\n",
    "figs = {}"
   ]
  },
  {
   "cell_type": "code",
   "execution_count": null,
   "metadata": {},
   "outputs": [],
   "source": [
    "fig = plot.makespan_all_baseline(df_solved, \"Constraint\")\n",
    "figs[\"makespan_compare_all\"] = fig\n",
    "fig.show()\n"
   ]
  },
  {
   "cell_type": "code",
   "execution_count": null,
   "metadata": {},
   "outputs": [],
   "source": [
    "df_compared = plot.baseline_makespan_compare(*plot.baseline_extract(df_solved, \"Constraint\"))\n",
    "df_tmp = df_compared.groupby([\"group\", \"modular_algorithm\", \"jobs\", \"modules\"], as_index=False)[\"makespan\"].mean()\n",
    "\n",
    "fig = plot.line_labels(\n",
    "    df_tmp,\n",
    "    x=\"jobs\",\n",
    "    y=\"makespan\",\n",
    "    line_dash=\"modular_algorithm\",\n",
    "    color=\"modules\",\n",
    "    facet_col=\"group\",\n",
    "    symbol=\"modules\",\n",
    "    labels={\"makespan\": \"Relative makespan\"}\n",
    ")\n",
    "fig.add_hline(y=1, line={\"color\": \"red\"}, annotation_text=\"Baseline\")\n",
    "# fig.update_layout(width=1200, height=800)\n",
    "fig.show()\n",
    "figs[\"makespan_compare_by_jobs_and_modules\"] = fig"
   ]
  },
  {
   "cell_type": "code",
   "execution_count": null,
   "metadata": {},
   "outputs": [],
   "source": [
    "def print_improvement(df: pd.DataFrame, col_base: str, col_new: str):\n",
    "    df_means = df.groupby([\"modular_algorithm\", \"group\"])[\"total_time\"].mean()\n",
    "    print((df_means.loc[col_base] / df_means.loc[col_new]).to_string())\n",
    "    \n",
    "print_improvement(df_solved, \"Constraint\", \"Cocktail\")\n",
    "fig = plot.runtime_all(\n",
    "    df_solved,\n",
    "    title=\"Execution time of all the solved problems\",\n",
    ")\n",
    "figs[\"runtime_solved\"] = fig\n",
    "fig.show()\n"
   ]
  },
  {
   "cell_type": "code",
   "execution_count": null,
   "metadata": {},
   "outputs": [],
   "source": [
    "df_tmp = df_solved.groupby([\"group\", \"modules\", \"jobs\", \"modular_algorithm\"], as_index=False)[\"total_time\"].mean()\n",
    "fig = plot.line_labels(\n",
    "    df_tmp,\n",
    "    x=\"jobs\",\n",
    "    y=\"total_time\",\n",
    "    line_dash=\"modular_algorithm\",\n",
    "    # log_y=True,\n",
    "    facet_col=\"group\",\n",
    "    color=\"modules\",\n",
    "    symbol=\"modules\",\n",
    "    title=\"Execution time by number of jobs and modules\",\n",
    ")\n",
    "fig.update_layout(width=1200, height=1000)\n",
    "fig.show()\n",
    "figs[\"runtime_by_jobs_and_modules\"] = fig"
   ]
  },
  {
   "cell_type": "code",
   "execution_count": null,
   "metadata": {},
   "outputs": [],
   "source": [
    "df_tmp = df_normal.groupby([\"modules\", \"jobs\", \"modular_algorithm\"], as_index=False)[\"solved\"].mean()\n",
    "fig = plot.line_labels(\n",
    "    df_tmp,\n",
    "    x=\"jobs\",\n",
    "    y=\"solved\",\n",
    "    line_dash=\"modular_algorithm\",\n",
    "    # log_x=True,\n",
    "    # facet_col=\"group\",\n",
    "    facet_row=\"modules\",\n",
    "    facet_col_wrap=1,\n",
    "    title=\"Ratio of solved instances by number of jobs and modules\",\n",
    "    width=1200, height=800,\n",
    ")\n",
    "# fig.update_layout(automargin=True)\n",
    "for annotations in fig['layout']['annotations']:\n",
    "    annotations['textangle'] = 0\n",
    "\n",
    "fig.show()\n",
    "figs[\"solved_by_jobs_and_modules\"] = fig"
   ]
  },
  {
   "cell_type": "code",
   "execution_count": null,
   "metadata": {},
   "outputs": [],
   "source": [
    "\n",
    "df_tmp = df_normal.copy()\n",
    "df_tmp[\"hardness\"] = df_tmp[\"jobs\"] * df_tmp[\"modules\"]\n",
    "df_tmp = df_tmp.groupby([\"hardness\", \"modular_algorithm\"], as_index=False)[\"solved\"].mean()\n",
    "fig = plot.line_labels(\n",
    "    df_tmp,\n",
    "    x=\"hardness\",\n",
    "    y=\"solved\",\n",
    "    line_dash=\"modular_algorithm\",\n",
    "    # facet_col=\"group\",\n",
    "    # log_x=True,\n",
    "    title=\"Ratio of solved instances per hardness (jobs × modules)\"\n",
    ")\n",
    "fig.show()\n",
    "figs[\"solved_by_hardness\"] = fig"
   ]
  },
  {
   "cell_type": "code",
   "execution_count": null,
   "metadata": {},
   "outputs": [],
   "source": [
    "for group, df in df_processed.groupby(\"group\"):\n",
    "    # Plot makespan by jobs\n",
    "    fig = plot.makespan_by_jobs(df, group, facet_row=None)\n",
    "    figs[f\"makespan_by_jobs_modules_{group}\"] = fig\n",
    "    fig.show()\n"
   ]
  },
  {
   "cell_type": "code",
   "execution_count": null,
   "metadata": {},
   "outputs": [],
   "source": [
    "for group, df in df_processed.groupby(\"group\"):\n",
    "    # Plot makespan by jobs\n",
    "    fig = plot.makespan_by_jobs(df[df[\"timeout\"] == False], group, line_dash=None, facet_row=None)\n",
    "    figs[f\"makespan_by_jobs_modules_no_timeout_{group}\"] = fig\n",
    "    fig.show()    "
   ]
  },
  {
   "cell_type": "code",
   "execution_count": null,
   "metadata": {},
   "outputs": [],
   "source": [
    "for group, df in df_processed.groupby(\"group\"):\n",
    "    df_temp = df.groupby([\"modular_algorithm\", \"timeout\", \"jobs\"], as_index=False)[\n",
    "        \"makespan\"\n",
    "    ].mean()\n",
    "    fig = plot.makespan_by_jobs(\n",
    "        df_temp,\n",
    "        title=f\"Makespan depending on number of jobs of {group}\",\n",
    "        create_df=False,\n",
    "        color=\"timeout\",\n",
    "        facet_row=None,\n",
    "    )\n",
    "    # figs[f\"makespan_by_jobs_{group}\"] = fig\n",
    "    fig.show()\n"
   ]
  },
  {
   "cell_type": "code",
   "execution_count": null,
   "metadata": {},
   "outputs": [],
   "source": [
    "for group, df in df_processed.groupby(\"group\"):\n",
    "    df_temp = df.groupby([\"modular_algorithm\", \"timeout\", \"modules\", \"jobs\"], as_index=False)[\n",
    "        \"total_time\"\n",
    "    ].mean()\n",
    "    fig = plot.plot_line_defaults(\n",
    "        data_frame=df_temp,\n",
    "        x=\"jobs\",\n",
    "        y=\"total_time\",\n",
    "        color=\"modules\",\n",
    "        title=f\"Execution time depending on number of jobs of {group}\",\n",
    "        log_y=True,\n",
    "        facet_row=None,\n",
    "    )\n",
    "    \n",
    "    figs[f\"runtime_by_jobs_{group}\"] = fig\n",
    "    fig.show()\n"
   ]
  },
  {
   "cell_type": "code",
   "execution_count": null,
   "metadata": {},
   "outputs": [],
   "source": [
    "for group, df in df_processed.groupby(\"group\"):\n",
    "    df_temp = df.groupby([\"modular_algorithm\", \"timeout\", \"modules\"], as_index=False)[\n",
    "        \"total_time\"\n",
    "    ].mean()\n",
    "    fig = plot.plot_line_defaults(\n",
    "        data_frame=df_temp,\n",
    "        x=\"modules\",\n",
    "        y=\"total_time\",\n",
    "        color=\"timeout\",\n",
    "        log_y=True,\n",
    "        facet_row=None,\n",
    "        title=f\"Execution time depending on number of modules of {group}\",\n",
    "    )\n",
    "    figs[f\"runtime_by_modules_{group}\"] = fig\n",
    "    fig.show()\n"
   ]
  },
  {
   "cell_type": "code",
   "execution_count": null,
   "metadata": {},
   "outputs": [],
   "source": [
    "FIGS_DIR.mkdir(exist_ok=True)\n",
    "for path, fig in figs.items():\n",
    "    print(path)\n",
    "    pio.write_html(fig, str(FIGS_DIR / f\"{path}.html\"))\n",
    "    # fig.update_layout(font={\"size\": 20})\n",
    "    # pio.write_image(fig, str(FIGS_DIR / f\"{path}.pdf\"), width=1600, height=900)\n",
    "\n",
    "# pio.write_image(fig, '../out/fig.pdf', width=1000, height=800)"
   ]
  }
 ],
 "metadata": {
  "interpreter": {
   "hash": "ada386eecef5b1c49f95383268bde1aae5e888661f90ad6742a6f22b97818b2d"
  },
  "kernelspec": {
   "display_name": "Python 3.10.4 ('.venv': poetry)",
   "language": "python",
   "name": "python3"
  },
  "language_info": {
   "codemirror_mode": {
    "name": "ipython",
    "version": 3
   },
   "file_extension": ".py",
   "mimetype": "text/x-python",
   "name": "python",
   "nbconvert_exporter": "python",
   "pygments_lexer": "ipython3",
   "version": "3.12.1"
  }
 },
 "nbformat": 4,
 "nbformat_minor": 4
}
