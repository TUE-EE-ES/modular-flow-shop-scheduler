{
 "cells": [
  {
   "cell_type": "code",
   "execution_count": 1,
   "metadata": {},
   "outputs": [],
   "source": [
    "import typing as t\n",
    "from pathlib import Path\n",
    "\n",
    "import matplotlib.pyplot as plt\n",
    "import networkx as nx\n",
    "\n",
    "import modfs.utils.graph as ug\n",
    "\n",
    "ROOT_PATH = Path().resolve().parent\n"
   ]
  },
  {
   "cell_type": "code",
   "execution_count": 2,
   "metadata": {},
   "outputs": [
    {
     "name": "stdout",
     "output_type": "stream",
     "text": [
      "Total cycle weight: -10.0\n",
      "[('246', '245'), ('245', '8'), ('8', '9'), ('9', '10'), ('10', '11'), ('11', '12'), ('12', '18'), ('18', '25'), ('25', '26'), ('26', '34'), ('34', '42'), ('42', '50'), ('50', '58'), ('58', '66'), ('66', '74'), ('74', '82'), ('82', '90'), ('90', '98'), ('98', '106'), ('106', '114'), ('114', '122'), ('122', '130'), ('130', '138'), ('138', '146'), ('146', '154'), ('154', '162'), ('162', '170'), ('170', '178'), ('178', '186'), ('186', '194'), ('194', '202'), ('202', '210'), ('210', '218'), ('218', '226'), ('226', '234'), ('234', '242'), ('242', '250'), ('250', '256'), ('256', '263'), ('263', '262'), ('262', '261'), ('261', '260'), ('260', '259'), ('259', '15'), ('15', '22'), ('22', '30'), ('30', '38'), ('38', '46'), ('46', '54'), ('54', '62'), ('62', '70'), ('70', '78'), ('78', '86'), ('86', '94'), ('94', '102'), ('102', '110'), ('110', '118'), ('118', '126'), ('126', '134'), ('134', '142'), ('142', '150'), ('150', '158'), ('158', '166'), ('166', '174'), ('174', '182'), ('182', '190'), ('190', '198'), ('198', '206'), ('206', '214'), ('214', '222'), ('222', '230'), ('230', '238'), ('238', '246')]\n"
     ]
    }
   ],
   "source": [
    "for graph_file in ROOT_PATH.glob(\"out/graphs/*.dot\"):\n",
    "    if graph_file.name.endswith(\"_out.dot\"):\n",
    "        continue\n",
    "    graph =  nx.DiGraph(nx.drawing.nx_pydot.read_dot(graph_file))\n",
    "    graph = ug.parse_operations(graph)\n",
    "\n",
    "    g2 = nx.DiGraph(graph.copy())\n",
    "    for s, des, d in t.cast(tuple[t.Any, t.Any, dict], g2.edges(data=True)):\n",
    "        if d is None:\n",
    "            continue\n",
    "        d[\"weight\"] = -1*int(d[\"weight\"])\n",
    "\n",
    "    cycle_edges = []\n",
    "    cycle = ug.get_negative_cycle(g2)\n",
    "    if cycle is not None:\n",
    "        weight = ug.get_cycle_weight(g2, cycle)\n",
    "        cycle_edges = ug.get_cycle_edges(g2, cycle)\n",
    "        print(f\"Total cycle weight: {weight}\")\n",
    "        print(cycle_edges)\n",
    "    else:\n",
    "        print(\"No negative cycle\")\n",
    "    ug.save_as_dot(\n",
    "        graph, ROOT_PATH / f\"out/graphs/{graph_file.stem}_out.dot\", highlight=cycle_edges\n",
    "    )\n",
    "    # ug.draw_networkx(graph, highlight=set(cycle_edges))\n",
    "    # plt.savefig(ROOT_PATH / f\"out/graphs/{graph_file.stem}.png\")\n",
    "    # plt.show()\n"
   ]
  },
  {
   "cell_type": "code",
   "execution_count": null,
   "metadata": {},
   "outputs": [],
   "source": []
  }
 ],
 "metadata": {
  "interpreter": {
   "hash": "22a2886f5503f76db294a73ca20cebe46d4a88da7c445c0af9aa01c3769bbc59"
  },
  "kernelspec": {
   "display_name": "Python 3.10.0 64-bit ('.venv': poetry)",
   "name": "python3"
  },
  "language_info": {
   "codemirror_mode": {
    "name": "ipython",
    "version": 3
   },
   "file_extension": ".py",
   "mimetype": "text/x-python",
   "name": "python",
   "nbconvert_exporter": "python",
   "pygments_lexer": "ipython3",
   "version": "3.10.1"
  },
  "orig_nbformat": 4
 },
 "nbformat": 4,
 "nbformat_minor": 2
}
